{
 "cells": [
  {
   "cell_type": "code",
   "execution_count": 2,
   "id": "5e599a0d",
   "metadata": {
    "tags": []
   },
   "outputs": [],
   "source": [
    "## This cell contains the essential imports you will need – DO NOT CHANGE THE CONTENTS! ##\n",
    "import torch\n",
    "import torch.nn as nn\n",
    "import torch.nn.functional as F\n",
    "import torch.optim as optim\n",
    "import torchvision\n",
    "import torchvision.transforms as transforms\n",
    "from torch.utils.data import DataLoader\n",
    "from torchvision import datasets\n",
    "import matplotlib.pyplot as plt\n",
    "import numpy as np\n",
    "import time\n",
    "import math"
   ]
  },
  {
   "cell_type": "code",
   "execution_count": null,
   "id": "e2f12a3a",
   "metadata": {
    "tags": []
   },
   "outputs": [],
   "source": [
    "def Complex_Normalize(z):\n",
    "    re = z.real\n",
    "    im = z.imag\n",
    "    re = F.normalize(re)\n",
    "    im = F.normalize(im)\n",
    "    \n",
    "    return torch.complex(re, im)\n",
    "\n",
    "# Define transforms\n",
    "train_transforms = transforms.Compose([\n",
    "    transforms.RandomRotation(10),\n",
    "    transforms.ToTensor(),\n",
    "    transforms.Normalize(0, 1),\n",
    "    #torch.fft.fft2,\n",
    "    #torch.fft.fftshift,\n",
    "    #Complex_Normalize\n",
    "])\n",
    "\n",
    "valid_transforms = transforms.Compose([\n",
    "    transforms.ToTensor(),\n",
    "    transforms.Normalize(0, 1),\n",
    "    #torch.fft.fft2,\n",
    "    #torch.fft.fftshift,\n",
    "    #Complex_Normalize\n",
    "])\n",
    "\n",
    "test_transforms = transforms.Compose([\n",
    "    transforms.ToTensor(),\n",
    "    transforms.Normalize(0, 1),\n",
    "    #torch.fft.fft2,\n",
    "    #torch.fft.fftshift,\n",
    "    #Complex_Normalize\n",
    "])\n",
    "\n",
    "\n",
    "# Create training set (with no transformations)\n",
    "raw_data = datasets.MNIST(root=\"data\", train=True, download=True, transform=None)\n",
    "\n",
    "# Split the training data into pure training data and validation data (80/20 split)\n",
    "train_size = int(len(raw_data) * 0.6) # 60% training data\n",
    "valid_size = int(len(raw_data) * 0.2) # 20% validation data\n",
    "test_size = len(raw_data)-(train_size+valid_size)\n",
    "\n",
    "training_data, validation_data, testing_data = torch.utils.data.random_split(raw_data, [train_size, valid_size, test_size])\n",
    "\n",
    "# Apply the respective transformations to each dataset\n",
    "training_data.dataset.transform = train_transforms\n",
    "validation_data.dataset.transform = valid_transforms\n",
    "testing_data.dataset.transform = test_transforms\n",
    "\n",
    "# Create test set and define test dataloader\n",
    "train_loader = DataLoader(training_data, batch_size=32, shuffle=True)\n",
    "valid_loader = DataLoader(validation_data, batch_size=32)\n",
    "test_loader = DataLoader(testing_data, batch_size=32)"
   ]
  },
  {
   "cell_type": "code",
   "execution_count": null,
   "id": "89889218",
   "metadata": {
    "tags": []
   },
   "outputs": [],
   "source": [
    "## This cell contains a function for showing 5 images from a dataloader – DO NOT CHANGE THE CONTENTS! ##\n",
    "this_batch = next(iter(train_loader))\n",
    "\n",
    "\n",
    "x = np.linspace(-50, 50, 100)\n",
    "y = np.linspace(-50, 50, 100)\n",
    "#X, Y = np.meshgrid(x, y)\n",
    "f_xy = np.heaviside(x-2,1)*np.heaviside(-x+10,1)*np.exp(-y**2/500)\n",
    "\n",
    "f = torch.Tensor(f_xy)\n",
    "\n",
    "\n",
    "def show_image_and_fft(image):\n",
    "    fft = torch.fft.fft2(image)\n",
    "    fft = torch.fft.fftshift(fft)\n",
    "    image = image.numpy()\n",
    "    fft = fft.numpy()\n",
    "    fft_real = fft.real\n",
    "    fft_imag = fft.imag\n",
    "    fft_abs = np.abs(fft)\n",
    "\n",
    "    #show the imaginary part of the image\n",
    "    plt.imshow(image.T.squeeze().T)\n",
    "    plt.show()\n",
    "\n",
    "    plt.imshow(fft_real.T.squeeze().T)\n",
    "    plt.show()\n",
    "    \n",
    "    plt.imshow(fft_imag.T.squeeze().T)\n",
    "    plt.show()\n",
    "    \n",
    "    plt.imshow(fft_abs.T.squeeze().T)\n",
    "    plt.show()\n",
    "\n",
    "def show(batch, n=1):\n",
    "    labels = batch[1][0:n]\n",
    "    images = batch[0][0:n]\n",
    "    #show inverse images and ffts\n",
    "    for i in range(n):\n",
    "        print(int(labels[i].detach()))\n",
    "        \n",
    "        inverted_image = torch.fft.fftshift(images[i])\n",
    "        inverted_image = torch.fft.ifft2(images[i]).abs().numpy()\n",
    "\n",
    "        image = transforms.functional.rotate(images[i], 90)\n",
    "        image = image.abs().numpy()\n",
    "        \n",
    "        #show the imaginary part of the image\n",
    "        plt.imshow(inverted_image.T.squeeze().T)\n",
    "        plt.show()\n",
    "        \n",
    "        plt.imshow(image.T.squeeze().T)\n",
    "        plt.show()\n",
    "        \n",
    "# Explore data\n",
    "show_image_and_fft(f)"
   ]
  },
  {
   "cell_type": "code",
   "execution_count": null,
   "id": "70a203aa-0ef2-463f-8f23-86b8cde4c8b0",
   "metadata": {
    "tags": []
   },
   "outputs": [],
   "source": [
    "def Haar(x,n,k):\n",
    "    w = 2**(-n) * x - k\n",
    "    z = torch.zeros_like(x)\n",
    "\n",
    "    for i in range(len(x)):\n",
    "        if 0 <= w[i] and w[i] < .5:\n",
    "            z[i] = 2**(-n/2)\n",
    "        elif .5 <= w[i] and w[i] < 1:\n",
    "            z[i] = -2**(-n/2)\n",
    "    \n",
    "    return z"
   ]
  },
  {
   "cell_type": "code",
   "execution_count": null,
   "id": "45f523c2-2106-4f85-9105-2d1330809bf8",
   "metadata": {
    "tags": []
   },
   "outputs": [],
   "source": [
    "n1 = 5\n",
    "n2 = 5\n",
    "n3 = 5\n",
    "\n",
    "k1 = 1\n",
    "k2 = 2\n",
    "k3 = 3\n",
    "\n",
    "\n",
    "N = 256\n",
    "x = torch.arange(0, N, N/1000)\n",
    "\n",
    "y1 = Haar(x,n1,k1)\n",
    "y2 = Haar(x,n2,k2)\n",
    "y3 = Haar(x,n3,k3)\n",
    "\n",
    "plt.plot(x, y1)\n",
    "plt.plot(x, y2)\n",
    "plt.plot(x, y3)"
   ]
  },
  {
   "cell_type": "code",
   "execution_count": null,
   "id": "9a6def4d-512b-4ed3-aef1-14afc31c4db5",
   "metadata": {
    "tags": []
   },
   "outputs": [],
   "source": [
    "1+2**0+2**1+2**2+2**3+2**4+2**5+2**6+2**7"
   ]
  },
  {
   "cell_type": "code",
   "execution_count": null,
   "id": "d33f5454-c5df-4e41-a729-b16f97d66a07",
   "metadata": {
    "tags": []
   },
   "outputs": [],
   "source": []
  },
  {
   "cell_type": "code",
   "execution_count": 17,
   "id": "71ca3bad-4024-4909-9050-5585cb56df73",
   "metadata": {
    "tags": []
   },
   "outputs": [],
   "source": [
    "m = 28  #Dimension of target tensor\n",
    "n = 32 #Dimensions of input\n",
    "\n",
    "#Define the identity tensor and the squared distance tensor\n",
    "Id = torch.zeros(m,m,n,n)\n",
    "sq_dist = torch.zeros_like(Id)\n",
    "Ii = torch.eye(m, n)\n",
    "Jj = torch.eye(m, n)\n",
    "\n",
    "with torch.no_grad():\n",
    "    for i in range(n):\n",
    "        for j in range(n):\n",
    "            for I in range(m):\n",
    "                for J in range(m):\n",
    "                    #First create Identity tensor\n",
    "                    Id[I,J,i,j] = Ii[I,i]*Jj[J,j]\n",
    "\n",
    "                    #Now define square distance tensor\n",
    "                    sq_dist[I,J,i,j] = (I/m-i/n)**2+(J/m-j/n)**2"
   ]
  },
  {
   "cell_type": "code",
   "execution_count": 19,
   "id": "ce89eb5b-24ae-4c73-aa51-b1ca630faa65",
   "metadata": {
    "tags": []
   },
   "outputs": [
    {
     "name": "stdout",
     "output_type": "stream",
     "text": [
      "tensor(0.0001)\n",
      "tensor(0.9994)\n",
      "tensor(1.0008)\n",
      "tensor(1.)\n"
     ]
    },
    {
     "data": {
      "text/plain": [
       "<matplotlib.image.AxesImage at 0x174ed2c50>"
      ]
     },
     "execution_count": 19,
     "metadata": {},
     "output_type": "execute_result"
    },
    {
     "data": {
      "text/plain": [
       "<Figure size 640x480 with 0 Axes>"
      ]
     },
     "metadata": {},
     "output_type": "display_data"
    },
    {
     "data": {
      "image/png": "[encoded data removed]",
      "text/plain": [
       "<Figure size 640x480 with 2 Axes>"
      ]
     },
     "metadata": {},
     "output_type": "display_data"
    }
   ],
   "source": [
    "import random\n",
    "noise_std = 1  #Standard dev of the noise\n",
    "sigma = 1\n",
    "\n",
    "gaussian = 1/(sigma*np.sqrt(2*torch.pi))*torch.exp(-m**2*sq_dist/(2*sigma**2))\n",
    "\n",
    "U = torch.zeros(n,n)\n",
    "\n",
    "dM = torch.randn(m, m, n, n)\n",
    "print(dM.mean())\n",
    "print(dM.std())\n",
    "dM = (dM+1)/dM.std()*noise_std\n",
    "print(dM.mean())\n",
    "print(dM.std())\n",
    "\n",
    "dM = dM*gaussian\n",
    "\n",
    "M=dM\n",
    "\n",
    "# Coordinates of points\n",
    "points = ()\n",
    "for i in range(10):\n",
    "    P = (random.randint(0, n-1),random.randint(0, n-1))\n",
    "    U[n-P[1]-1,P[0]]=random.randrange(-100,100)           \n",
    "\n",
    "V = torch.tensordot(M, U, [[2,3], [0,1]])\n",
    "\n",
    "plt.figure()\n",
    "\n",
    "#subplot(r,c) provide the no. of rows and columns\n",
    "f, axarr = plt.subplots(1,2) \n",
    "\n",
    "# use the created array to output your multiple images. In this case I have stacked 4 images vertically\n",
    "axarr[0].imshow(U, vmin=-100, vmax=100)\n",
    "axarr[1].imshow(V, vmin=-100, vmax=100)"
   ]
  },
  {
   "cell_type": "code",
   "execution_count": 15,
   "id": "19c428c4-d7fe-40ed-856e-40a1be80a73c",
   "metadata": {
    "tags": []
   },
   "outputs": [
    {
     "name": "stdout",
     "output_type": "stream",
     "text": [
      "tensor([[[8, 5],\n",
      "         [5, 7]],\n",
      "\n",
      "        [[0, 0],\n",
      "         [5, 0]],\n",
      "\n",
      "        [[1, 6],\n",
      "         [5, 0]]])\n",
      "tensor([[1, 1],\n",
      "        [1, 1]])\n",
      "tensor([25,  5, 12])\n"
     ]
    }
   ],
   "source": [
    "A = torch.randint(low=0, high=10, size=[3, 2, 2])\n",
    "print(A)\n",
    "\n",
    "B = torch.ones([2,2], dtype=torch.int64)\n",
    "print(B)\n",
    "\n",
    "A.to(torch.float32)\n",
    "B.to(torch.float32)\n",
    "\n",
    "print(torch.tensordot(B, A, dims=([-2,-1], [-2, -1] )))"
   ]
  },
  {
   "cell_type": "code",
   "execution_count": null,
   "id": "a454bfdf-8d49-4a14-b676-fe01c67ad59c",
   "metadata": {},
   "outputs": [],
   "source": []
  },
  {
   "cell_type": "code",
   "execution_count": null,
   "id": "b3e4e466-5e2a-4642-86f8-32a507247e08",
   "metadata": {},
   "outputs": [],
   "source": []
  },
  {
   "cell_type": "code",
   "execution_count": null,
   "id": "5d89438b-cb92-41c5-80dd-60e902afb093",
   "metadata": {},
   "outputs": [],
   "source": []
  },
  {
   "cell_type": "code",
   "execution_count": null,
   "id": "95377a6d-ff33-4e43-a362-7dc8715ab0df",
   "metadata": {},
   "outputs": [],
   "source": []
  }
 ],
 "metadata": {
  "kernelspec": {
   "display_name": "Python 3 (ipykernel)",
   "language": "python",
   "name": "python3"
  },
  "language_info": {
   "codemirror_mode": {
    "name": "ipython",
    "version": 3
   },
   "file_extension": ".py",
   "mimetype": "text/x-python",
   "name": "python",
   "nbconvert_exporter": "python",
   "pygments_lexer": "ipython3",
   "version": "3.11.5"
  }
 },
 "nbformat": 4,
 "nbformat_minor": 5
}
